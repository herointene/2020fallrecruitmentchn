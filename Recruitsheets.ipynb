{
 "cells": [
  {
   "cell_type": "markdown",
   "metadata": {},
   "source": [
    "### 爬取校招2021信息 by 喝醉的龙猫"
   ]
  },
  {
   "cell_type": "markdown",
   "metadata": {},
   "source": [
    "#### 导入库"
   ]
  },
  {
   "cell_type": "code",
   "execution_count": 1,
   "metadata": {},
   "outputs": [],
   "source": [
    "import pandas as pd #这是本次将数据保存为表格形式，进行数据清洗，与录入excel文件所需要的库\n",
    "import requests #让python请求网页的库\n",
    "from bs4 import BeautifulSoup #解析html代码的库\n",
    "import re #正则表达式的库，爬取校招信息对应链接时用到\n",
    "import time #生成日期，保存的时候用"
   ]
  },
  {
   "cell_type": "markdown",
   "metadata": {},
   "source": [
    "#### 数据抓取"
   ]
  },
  {
   "cell_type": "code",
   "execution_count": 2,
   "metadata": {
    "scrolled": true
   },
   "outputs": [
    {
     "name": "stdout",
     "output_type": "stream",
     "text": [
      "done\n"
     ]
    }
   ],
   "source": [
    "namelist=[]\n",
    "datelist=[]\n",
    "link=[]\n",
    "# range: 第一页到第二十三页，页数范围可以自己改，信息由新到旧每页100个。\n",
    "for i in range(1,24):\n",
    "\n",
    "    url = 'http://www.yingjiesheng.com/2021/index-'+str(i)+'.html'\n",
    "    #print('{}'.format(i))\n",
    "    page = requests.get(url).content\n",
    "    soup = BeautifulSoup(page,'html')\n",
    "    #print('good to go')\n",
    "    company = soup.find_all('div', class_='s_clear tit floatl')\n",
    "    for i in company:\n",
    "        namelist.append(i.text)\n",
    "\n",
    "    for i in range(len(company)):\n",
    "        link.append(company[i].find_all('a')[0]['href'])\n",
    "\n",
    "    date = soup.find_all('div', class_='box1 bg1')\n",
    "    for i in date:\n",
    "        datelist.append(i.text)\n",
    "    #print('done')\n",
    "print('done')"
   ]
  },
  {
   "cell_type": "markdown",
   "metadata": {},
   "source": [
    "#### 数据清洗"
   ]
  },
  {
   "cell_type": "code",
   "execution_count": 3,
   "metadata": {},
   "outputs": [
    {
     "data": {
      "text/html": [
       "<div>\n",
       "<style scoped>\n",
       "    .dataframe tbody tr th:only-of-type {\n",
       "        vertical-align: middle;\n",
       "    }\n",
       "\n",
       "    .dataframe tbody tr th {\n",
       "        vertical-align: top;\n",
       "    }\n",
       "\n",
       "    .dataframe thead th {\n",
       "        text-align: right;\n",
       "    }\n",
       "</style>\n",
       "<table border=\"1\" class=\"dataframe\">\n",
       "  <thead>\n",
       "    <tr style=\"text-align: right;\">\n",
       "      <th></th>\n",
       "      <th>name</th>\n",
       "      <th>date</th>\n",
       "      <th>link</th>\n",
       "    </tr>\n",
       "  </thead>\n",
       "  <tbody>\n",
       "    <tr>\n",
       "      <th>2</th>\n",
       "      <td>【北京上海成都深圳】腾讯2021游戏美术校园招聘</td>\n",
       "      <td>2020-07-07启动</td>\n",
       "      <td>http://www.yingjiesheng.com/job-004-680-208.html</td>\n",
       "    </tr>\n",
       "    <tr>\n",
       "      <th>3</th>\n",
       "      <td>【北京上海】美团2021校园招聘-北斗计划</td>\n",
       "      <td>2020-07-07启动</td>\n",
       "      <td>http://www.yingjiesheng.com/job-004-680-206.html</td>\n",
       "    </tr>\n",
       "    <tr>\n",
       "      <th>4</th>\n",
       "      <td>【江西】兴业银行南昌分行2020校园招聘</td>\n",
       "      <td>2020-07-07_07-17</td>\n",
       "      <td>http://www.yingjiesheng.com/job-004-680-202.html</td>\n",
       "    </tr>\n",
       "    <tr>\n",
       "      <th>5</th>\n",
       "      <td>【黑龙江】招商银行哈尔滨分行2020校园招聘柜员</td>\n",
       "      <td>2020-07-07_07-17</td>\n",
       "      <td>http://www.yingjiesheng.com/job-004-680-199.html</td>\n",
       "    </tr>\n",
       "    <tr>\n",
       "      <th>6</th>\n",
       "      <td>【青海】招商银行西宁分行2020实习生招聘</td>\n",
       "      <td>2020-07-06_07-12</td>\n",
       "      <td>http://www.yingjiesheng.com/job-004-678-838.html</td>\n",
       "    </tr>\n",
       "    <tr>\n",
       "      <th>...</th>\n",
       "      <td>...</td>\n",
       "      <td>...</td>\n",
       "      <td>...</td>\n",
       "    </tr>\n",
       "    <tr>\n",
       "      <th>2295</th>\n",
       "      <td>【全国海外】小米2020校园招聘</td>\n",
       "      <td>2019.7.25启动</td>\n",
       "      <td>http://www.yingjiesheng.com/job-004-243-942.html</td>\n",
       "    </tr>\n",
       "    <tr>\n",
       "      <th>2296</th>\n",
       "      <td>【全国】腾讯2020校园招聘</td>\n",
       "      <td>2019.7.25-9.15</td>\n",
       "      <td>http://www.yingjiesheng.com/job-004-243-915.html</td>\n",
       "    </tr>\n",
       "    <tr>\n",
       "      <th>2297</th>\n",
       "      <td>【北京上海广州深圳】腾讯2020校园招聘产品经理培训生</td>\n",
       "      <td>2019.7.25-10.11</td>\n",
       "      <td>http://www.yingjiesheng.com/job-004-243-914.html</td>\n",
       "    </tr>\n",
       "    <tr>\n",
       "      <th>2298</th>\n",
       "      <td>【北京上海香港】Goldman Sachs高盛2020校园招聘</td>\n",
       "      <td>2019.7.24-10.13</td>\n",
       "      <td>http://www.yingjiesheng.com/job-004-243-275.html</td>\n",
       "    </tr>\n",
       "    <tr>\n",
       "      <th>2299</th>\n",
       "      <td>【上海】摩根士丹利2020校园招聘信息技术部门开放日【2019年8月8日】</td>\n",
       "      <td>2019.7.24-7.31</td>\n",
       "      <td>http://www.yingjiesheng.com/job-004-242-779.html</td>\n",
       "    </tr>\n",
       "  </tbody>\n",
       "</table>\n",
       "<p>2298 rows × 3 columns</p>\n",
       "</div>"
      ],
      "text/plain": [
       "                                       name              date  \\\n",
       "2                  【北京上海成都深圳】腾讯2021游戏美术校园招聘      2020-07-07启动   \n",
       "3                     【北京上海】美团2021校园招聘-北斗计划      2020-07-07启动   \n",
       "4                      【江西】兴业银行南昌分行2020校园招聘  2020-07-07_07-17   \n",
       "5                  【黑龙江】招商银行哈尔滨分行2020校园招聘柜员  2020-07-07_07-17   \n",
       "6                     【青海】招商银行西宁分行2020实习生招聘  2020-07-06_07-12   \n",
       "...                                     ...               ...   \n",
       "2295                       【全国海外】小米2020校园招聘       2019.7.25启动   \n",
       "2296                         【全国】腾讯2020校园招聘    2019.7.25-9.15   \n",
       "2297            【北京上海广州深圳】腾讯2020校园招聘产品经理培训生   2019.7.25-10.11   \n",
       "2298        【北京上海香港】Goldman Sachs高盛2020校园招聘   2019.7.24-10.13   \n",
       "2299  【上海】摩根士丹利2020校园招聘信息技术部门开放日【2019年8月8日】    2019.7.24-7.31   \n",
       "\n",
       "                                                  link  \n",
       "2     http://www.yingjiesheng.com/job-004-680-208.html  \n",
       "3     http://www.yingjiesheng.com/job-004-680-206.html  \n",
       "4     http://www.yingjiesheng.com/job-004-680-202.html  \n",
       "5     http://www.yingjiesheng.com/job-004-680-199.html  \n",
       "6     http://www.yingjiesheng.com/job-004-678-838.html  \n",
       "...                                                ...  \n",
       "2295  http://www.yingjiesheng.com/job-004-243-942.html  \n",
       "2296  http://www.yingjiesheng.com/job-004-243-915.html  \n",
       "2297  http://www.yingjiesheng.com/job-004-243-914.html  \n",
       "2298  http://www.yingjiesheng.com/job-004-243-275.html  \n",
       "2299  http://www.yingjiesheng.com/job-004-242-779.html  \n",
       "\n",
       "[2298 rows x 3 columns]"
      ]
     },
     "execution_count": 3,
     "metadata": {},
     "output_type": "execute_result"
    }
   ],
   "source": [
    "df = pd.DataFrame([namelist,datelist,link]).T #先把数据储存进表格里\n",
    "df.columns=['name','date','link']\n",
    "df['date'] = df.date.apply(lambda x: x.strip())\n",
    "df.drop([0,1],axis=0,inplace=True) #去掉前两行广告\n",
    "\n",
    "linklist = df['link'].tolist() #修改链接让它可以直接访问\n",
    "\n",
    "for i in range(len(linklist)):\n",
    "    if re.search('^/job-',linklist[i]):\n",
    "        linklist[i] = ('http://www.yingjiesheng.com'+linklist[i])\n",
    "    else:\n",
    "        pass\n",
    "\n",
    "df['link'] = linklist \n",
    "\n",
    "df['date'] = df.date.apply(lambda x: x.replace('网申','')) #去除首尾的换行符和‘网申’二字\n",
    "df"
   ]
  },
  {
   "cell_type": "markdown",
   "metadata": {},
   "source": [
    "#### 存储Excel文件到本地"
   ]
  },
  {
   "cell_type": "code",
   "execution_count": 4,
   "metadata": {},
   "outputs": [],
   "source": [
    "timestamp = time.strftime('%m%d',time.localtime())\n",
    "filename = 'recruit'+timestamp+'.xlsx'\n",
    "df.to_excel(filename,index=False,encoding='utf-8-sig')"
   ]
  }
 ],
 "metadata": {
  "kernelspec": {
   "display_name": "Python 3",
   "language": "python",
   "name": "python3"
  },
  "language_info": {
   "codemirror_mode": {
    "name": "ipython",
    "version": 3
   },
   "file_extension": ".py",
   "mimetype": "text/x-python",
   "name": "python",
   "nbconvert_exporter": "python",
   "pygments_lexer": "ipython3",
   "version": "3.7.6"
  }
 },
 "nbformat": 4,
 "nbformat_minor": 4
}
